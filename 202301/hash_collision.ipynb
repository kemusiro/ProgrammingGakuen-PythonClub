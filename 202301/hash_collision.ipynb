{
  "nbformat": 4,
  "nbformat_minor": 0,
  "metadata": {
    "colab": {
      "provenance": [],
      "collapsed_sections": [],
      "mount_file_id": "1cJijYY_ai_IMCGpMcqHLWNsBnuaadWv9",
      "authorship_tag": "ABX9TyOw297LD6F2RD8ikIgU4PbT",
      "include_colab_link": true
    },
    "kernelspec": {
      "name": "python3",
      "display_name": "Python 3"
    },
    "language_info": {
      "name": "python"
    }
  },
  "cells": [
    {
      "cell_type": "markdown",
      "metadata": {
        "id": "view-in-github",
        "colab_type": "text"
      },
      "source": [
        "<a href=\"https://colab.research.google.com/github/kemusiro/ProgrammingGakuen-PythonClub/blob/main/202301/hash_collision.ipynb\" target=\"_parent\"><img src=\"https://colab.research.google.com/assets/colab-badge.svg\" alt=\"Open In Colab\"/></a>"
      ]
    },
    {
      "cell_type": "code",
      "execution_count": null,
      "metadata": {
        "id": "5Ak_vLtdgOZB"
      },
      "outputs": [],
      "source": [
        "import hashlib\n",
        "import io\n",
        "import math\n",
        "import random\n",
        "from google.colab import drive\n",
        "import IPython\n",
        "from PIL import Image\n",
        "\n",
        "# ハッシュ値を計算するためのクラス\n",
        "class Hash:\n",
        "    # 4ビット単位でハッシュ値の長さを指定する。\n",
        "    def __init__(self, length):\n",
        "        self.length = length\n",
        "\n",
        "    # バイト配列に対してハッシュ値を計算する。\n",
        "    def hash(self, values):\n",
        "        return hashlib.md5(values).hexdigest()[-self.length:]\n",
        "\n",
        "    # Imageオブジェクトの画像データ部分に対するハッシュ値を計算する。\n",
        "    def hash_image(self, image):\n",
        "        return self.hash(image.tobytes())\n",
        "\n",
        "# 与えられた画像に対して一部が異なる画像データを生成する。\n",
        "def generate(img, n):\n",
        "    w, h = img.size\n",
        "    images = []\n",
        "    for _ in range(n):\n",
        "        new_img = img.copy()\n",
        "        x = random.randrange(0, w - 1)\n",
        "        y = random.randrange(0, h - 1)\n",
        "        new_img.putpixel((x, y), (0, 255, 0))\n",
        "        images.append((new_img, (x, y)))\n",
        "    return images\n",
        "\n",
        "# Googleドライブをマウントする。\n",
        "drive.mount(\"/content/drive\")\n",
        "path = \"/content/drive/MyDrive/Colab Notebooks/\"\n",
        "\n",
        "# ハッシュ値の長さを20ビット(5*4ビット)とする。\n",
        "length = 5\n",
        "hasher = Hash(length)\n",
        "print(\"maximum space = {}\".format(2 ** (length * 4)))\n",
        "\n",
        "# 2つの画像ファイルを開く\n",
        "img1 = Image.open(path + \"写真1.jpg\")\n",
        "print(\"image1: hash = {}\".format(hasher.hash_image(img1)))\n",
        "\n",
        "img2 = Image.open(path + \"写真2.jpg\")\n",
        "print(\"image2: hash = {}\".format(hasher.hash_image(img2)))\n",
        "\n",
        "# 生成するバリエーション画像の数を決定する。\n",
        "nimg = math.ceil(1.1774 * math.sqrt(2 ** (length * 4)))\n",
        "print(\"generate {} images\".format(nimg))\n",
        "\n",
        "# 同じハッシュ値の画像ペアが見つかるまで最大10回繰り返す。\n",
        "for i in range(10):\n",
        "    print(\"iteration {}\".format(i))\n",
        "    # それぞれの画像ファイルに対するバリエーション画像を生成する。\n",
        "    variation1 = generate(img1, nimg)\n",
        "    variation2 = generate(img2, nimg)\n",
        "\n",
        "    # バリエーション画像毎にハッシュ値を計算する。\n",
        "    hv1 = {hasher.hash_image(e[0]): e for e in variation1}\n",
        "    hv2 = {hasher.hash_image(e[0]): e for e in variation2}\n",
        "    print(\"valid images: variation1 = {}, variation2 = {}\".format(len(hv1), len(hv2)))\n",
        "\n",
        "    # 同じハッシュ値となる画像を求める。\n",
        "    intersection = set(hv1.keys()) & set(hv2.keys())\n",
        "    if intersection:\n",
        "        print(\"found hash value = {}\".format(intersection))\n",
        "        # 複数の候補がある場合は任意の一つを取り出す。\n",
        "        sample = intersection.pop()\n",
        "        # 取り出したハッシュ値に対する画像と、画像内で修正したピクセル位置を表示する。\n",
        "        print(\"image 1: hash = {}, point = {}\".format(sample, hv1[sample][1]))\n",
        "        IPython.display.display(hv1[sample][0])\n",
        "        hv1[sample][0].save(path + \"modified-写真1.png\")\n",
        "        hv1[sample][0].save(path + \"modified-写真1.jpg\")\n",
        "        print(\"image 2: hash = {}, point = {}\".format(sample, hv2[sample][1]))\n",
        "        IPython.display.display(hv2[sample][0])\n",
        "        hv2[sample][0].save(path + \"modified-写真2.png\")\n",
        "        hv2[sample][0].save(path + \"modified-写真2.jpg\")\n",
        "        break\n",
        "else:\n",
        "    print(\"not found\")"
      ]
    }
  ]
}